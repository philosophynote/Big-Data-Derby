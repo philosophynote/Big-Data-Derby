{
 "cells": [
  {
   "cell_type": "code",
   "execution_count": null,
   "metadata": {
    "_cell_guid": "b1076dfc-b9ad-4769-8c92-a6c4dae69d19",
    "_uuid": "8f2839f25d086af736a60e9eeb907d3b93b6e0e5",
    "execution": {
     "iopub.execute_input": "2022-08-12T00:43:00.795893Z",
     "iopub.status.busy": "2022-08-12T00:43:00.795486Z",
     "iopub.status.idle": "2022-08-12T00:43:00.807702Z",
     "shell.execute_reply": "2022-08-12T00:43:00.806376Z",
     "shell.execute_reply.started": "2022-08-12T00:43:00.795859Z"
    }
   },
   "outputs": [],
   "source": [
    "import numpy as np # linear algebra\n",
    "import pandas as pd # data processing, CSV file I/O (e.g. pd.read_csv)\n",
    "import plotly.express as px #graphing\n",
    "import plotly.graph_objects as go #graphing\n",
    "from plotly.subplots import make_subplots #graphing\n",
    "import plotly.figure_factory as ff #graphing\n",
    "import matplotlib.pyplot as plt #graphing\n",
    "import seaborn as sns #graphing\n",
    "import missingno as msno #describe data\n",
    "import os\n",
    "\n",
    "colors = [\"#FFFFFF\", \"#6CD4FF\", \"#F7DF00\", \"#E60000\"]\n",
    "\n",
    "plt.rcParams[\"figure.figsize\"] = (12, 8)\n",
    "\n",
    "for dirname, _, filenames in os.walk('/kaggle/input'):\n",
    "    for filename in filenames:\n",
    "        print(os.path.join(dirname, filename))"
   ]
  },
  {
   "cell_type": "markdown",
   "metadata": {},
   "source": [
    "## Goal of the Competition 🐴 \n",
    "\n",
    "The goal of this competition is to analyze horse racing tactics, drafting strategies, and path efficiency. You will develop a model using never-before-released coordinate data along with basic race information.\n",
    "\n",
    "Your work will help racing horse owners, trainers, and veterinarians better understand how equine performance and welfare fit together. With better data analysis, equine welfare could significantly improve.\n",
    "\n",
    "## Context 🐴\n",
    "\n",
    "Injury prevention is a critical component in modern athletics. Sports that involve animals, such as horse racing, are no different than human sport. Typically, efficiency in movement correlates to both improvements in performance and injury prevention.\n",
    "\n",
    "A wealth of data is now collected, including measures for heart rate, EKG, longitudinal movement, dorsal/ventral movement, medial/lateral deviation, total power and total landing vibration. Your data science skills and analysis are needed to decipher what makes the most positive impact.\n",
    "\n",
    "In this competition, you will create a model to interpret one aspect of this new data. You’ll be among the first to access X/Y coordinate mapping of horses during races. Using the data, you might analyze jockey decision making, compare race surfaces, or measure the relative importance of drafting. With considerable data, contestants can flex their creativity problem solving skills.\n",
    "\n",
    "The New York Racing Association (NYRA) and the New York Thoroughbred Horsemen's Association (NYTHA) conduct world class thoroughbred racing at Aqueduct Racetrack, Belmont Park and Saratoga Race Course.\n",
    "\n",
    "With your help, NYRA and NYTHA will better understand their vast data set, which could lead to new ways of racing and training in a highly traditional industry. With improved use of horse tracking data, you could help improve equine welfare, performance and rider decision making."
   ]
  },
  {
   "cell_type": "code",
   "execution_count": null,
   "metadata": {
    "execution": {
     "iopub.execute_input": "2022-08-12T01:05:02.285599Z",
     "iopub.status.busy": "2022-08-12T01:05:02.28517Z",
     "iopub.status.idle": "2022-08-12T01:05:12.393517Z",
     "shell.execute_reply": "2022-08-12T01:05:12.392212Z",
     "shell.execute_reply.started": "2022-08-12T01:05:02.285563Z"
    }
   },
   "outputs": [],
   "source": [
    "nyra_tracking = pd.read_csv(\"/kaggle/input/big-data-derby-2022/nyra_tracking_table.csv\")\n",
    "nyra_start = pd.read_csv(\"/kaggle/input/big-data-derby-2022/nyra_start_table.csv\")\n",
    "nyra_race = pd.read_csv(\"/kaggle/input/big-data-derby-2022/nyra_race_table.csv\")\n",
    "nyra_2019 = pd.read_csv(\"/kaggle/input/big-data-derby-2022/nyra_2019_complete.csv\")"
   ]
  },
  {
   "cell_type": "code",
   "execution_count": null,
   "metadata": {
    "execution": {
     "iopub.execute_input": "2022-08-11T23:51:34.660336Z",
     "iopub.status.busy": "2022-08-11T23:51:34.659877Z",
     "iopub.status.idle": "2022-08-11T23:51:34.687408Z",
     "shell.execute_reply": "2022-08-11T23:51:34.686047Z",
     "shell.execute_reply.started": "2022-08-11T23:51:34.660298Z"
    }
   },
   "outputs": [],
   "source": [
    "nyra_tracking.head()"
   ]
  },
  {
   "cell_type": "code",
   "execution_count": null,
   "metadata": {
    "execution": {
     "iopub.execute_input": "2022-08-11T23:54:24.059005Z",
     "iopub.status.busy": "2022-08-11T23:54:24.058382Z",
     "iopub.status.idle": "2022-08-11T23:54:24.79822Z",
     "shell.execute_reply": "2022-08-11T23:54:24.797008Z",
     "shell.execute_reply.started": "2022-08-11T23:54:24.058941Z"
    }
   },
   "outputs": [],
   "source": [
    "nyra_tracking.describe().style.background_gradient(cmap = \"Purples\")"
   ]
  },
  {
   "cell_type": "code",
   "execution_count": null,
   "metadata": {
    "execution": {
     "iopub.execute_input": "2022-08-11T23:53:23.654272Z",
     "iopub.status.busy": "2022-08-11T23:53:23.653821Z",
     "iopub.status.idle": "2022-08-11T23:53:23.979526Z",
     "shell.execute_reply": "2022-08-11T23:53:23.978251Z",
     "shell.execute_reply.started": "2022-08-11T23:53:23.654234Z"
    }
   },
   "outputs": [],
   "source": [
    "nyra_tracking.track_id.value_counts()"
   ]
  },
  {
   "cell_type": "code",
   "execution_count": null,
   "metadata": {
    "execution": {
     "iopub.execute_input": "2022-08-11T23:52:12.745747Z",
     "iopub.status.busy": "2022-08-11T23:52:12.745302Z",
     "iopub.status.idle": "2022-08-11T23:52:12.805019Z",
     "shell.execute_reply": "2022-08-11T23:52:12.803552Z",
     "shell.execute_reply.started": "2022-08-11T23:52:12.745709Z"
    }
   },
   "outputs": [],
   "source": [
    "nyra_tracking.race_number.value_counts()"
   ]
  },
  {
   "cell_type": "code",
   "execution_count": null,
   "metadata": {
    "execution": {
     "iopub.execute_input": "2022-08-11T23:52:36.663005Z",
     "iopub.status.busy": "2022-08-11T23:52:36.662551Z",
     "iopub.status.idle": "2022-08-11T23:52:37.016479Z",
     "shell.execute_reply": "2022-08-11T23:52:37.015235Z",
     "shell.execute_reply.started": "2022-08-11T23:52:36.662967Z"
    }
   },
   "outputs": [],
   "source": [
    "nyra_tracking.program_number.value_counts()"
   ]
  },
  {
   "cell_type": "code",
   "execution_count": null,
   "metadata": {
    "_kg_hide-input": true
   },
   "outputs": [],
   "source": [
    "nyra_tracking['race_date'] = pd.to_datetime(nyra_tracking['race_date'])\n",
    "nyra_tracking['day'], nyra_tracking['month'] = nyra_tracking['race_date'].dt.day, nyra_tracking['race_date'].dt.month"
   ]
  },
  {
   "cell_type": "markdown",
   "metadata": {},
   "source": [
    "# track_id = AQU"
   ]
  },
  {
   "cell_type": "code",
   "execution_count": null,
   "metadata": {
    "_kg_hide-input": true,
    "execution": {
     "iopub.execute_input": "2022-08-12T00:21:40.031404Z",
     "iopub.status.busy": "2022-08-12T00:21:40.030939Z",
     "iopub.status.idle": "2022-08-12T00:21:55.997433Z",
     "shell.execute_reply": "2022-08-12T00:21:55.996065Z",
     "shell.execute_reply.started": "2022-08-12T00:21:40.031365Z"
    }
   },
   "outputs": [],
   "source": [
    "nyra_tracking0 = nyra_tracking[nyra_tracking[\"track_id\"] == \"AQU\"]\n",
    "nyra_tracking1 = nyra_tracking0[nyra_tracking0[\"month\"] == 11]\n",
    "\n",
    "plt.style.use(\"dark_background\")\n",
    "plt.figure(figsize = (16, 8))\n",
    "sns.scatterplot(data = nyra_tracking1, x = \"longitude\", y = \"latitude\", hue = \"race_number\", palette = \"Set2\")\n",
    "\n",
    "plt.title(\"track_id = AQU, Longitude and Latitude by Race Number\")\n",
    "plt.legend()"
   ]
  },
  {
   "cell_type": "markdown",
   "metadata": {},
   "source": [
    "# track_id = BEL"
   ]
  },
  {
   "cell_type": "code",
   "execution_count": null,
   "metadata": {
    "_kg_hide-input": true,
    "execution": {
     "iopub.execute_input": "2022-08-12T00:20:40.810819Z",
     "iopub.status.busy": "2022-08-12T00:20:40.810401Z",
     "iopub.status.idle": "2022-08-12T00:20:52.6836Z",
     "shell.execute_reply": "2022-08-12T00:20:52.682635Z",
     "shell.execute_reply.started": "2022-08-12T00:20:40.810783Z"
    }
   },
   "outputs": [],
   "source": [
    "nyra_tracking0 = nyra_tracking[nyra_tracking[\"track_id\"] == \"BEL\"]\n",
    "nyra_tracking1 = nyra_tracking0[nyra_tracking0[\"month\"] == 5]\n",
    "\n",
    "plt.style.use(\"dark_background\")\n",
    "plt.figure(figsize = (16, 8))\n",
    "sns.scatterplot(data = nyra_tracking1, x = \"longitude\", y = \"latitude\", hue = \"race_number\", palette = \"Set2\")\n",
    "\n",
    "plt.title(\"track_id = BEL, Longitude and Latitude by Race Number\")\n",
    "plt.legend()"
   ]
  },
  {
   "cell_type": "markdown",
   "metadata": {},
   "source": [
    "# track_id = SAR"
   ]
  },
  {
   "cell_type": "code",
   "execution_count": null,
   "metadata": {
    "_kg_hide-input": true,
    "execution": {
     "iopub.execute_input": "2022-08-12T00:20:28.192882Z",
     "iopub.status.busy": "2022-08-12T00:20:28.192405Z",
     "iopub.status.idle": "2022-08-12T00:20:30.711942Z",
     "shell.execute_reply": "2022-08-12T00:20:30.710423Z",
     "shell.execute_reply.started": "2022-08-12T00:20:28.192842Z"
    }
   },
   "outputs": [],
   "source": [
    "nyra_tracking0 = nyra_tracking[nyra_tracking[\"track_id\"] == \"SAR\"]\n",
    "nyra_tracking1 = nyra_tracking0[nyra_tracking0[\"month\"] == 9]\n",
    "\n",
    "plt.style.use(\"dark_background\")\n",
    "plt.figure(figsize = (16, 8))\n",
    "sns.scatterplot(data = nyra_tracking1, x = \"longitude\", y = \"latitude\", hue = \"race_number\", palette = \"Set2\")\n",
    "\n",
    "plt.title(\"track_id = SAR, Longitude and Latitude by Race Number\")\n",
    "plt.legend()"
   ]
  },
  {
   "cell_type": "code",
   "execution_count": null,
   "metadata": {
    "execution": {
     "iopub.execute_input": "2022-08-12T00:23:40.694924Z",
     "iopub.status.busy": "2022-08-12T00:23:40.693478Z",
     "iopub.status.idle": "2022-08-12T00:23:40.713768Z",
     "shell.execute_reply": "2022-08-12T00:23:40.712282Z",
     "shell.execute_reply.started": "2022-08-12T00:23:40.694863Z"
    }
   },
   "outputs": [],
   "source": [
    "nyra_start.head()"
   ]
  },
  {
   "cell_type": "code",
   "execution_count": null,
   "metadata": {
    "execution": {
     "iopub.execute_input": "2022-08-12T00:28:40.665944Z",
     "iopub.status.busy": "2022-08-12T00:28:40.665456Z",
     "iopub.status.idle": "2022-08-12T00:28:40.682722Z",
     "shell.execute_reply": "2022-08-12T00:28:40.681347Z",
     "shell.execute_reply.started": "2022-08-12T00:28:40.665891Z"
    }
   },
   "outputs": [],
   "source": [
    "nyra_start['race_date'] = pd.to_datetime(nyra_start['race_date'])\n",
    "nyra_start['day'], nyra_start['month'] = nyra_start['race_date'].dt.day, nyra_start['race_date'].dt.month"
   ]
  },
  {
   "cell_type": "markdown",
   "metadata": {},
   "source": [
    "# Odds of winning race 🐴"
   ]
  },
  {
   "cell_type": "code",
   "execution_count": null,
   "metadata": {
    "_kg_hide-input": true,
    "execution": {
     "iopub.execute_input": "2022-08-12T00:50:44.467353Z",
     "iopub.status.busy": "2022-08-12T00:50:44.466872Z",
     "iopub.status.idle": "2022-08-12T00:50:44.705102Z",
     "shell.execute_reply": "2022-08-12T00:50:44.703748Z",
     "shell.execute_reply.started": "2022-08-12T00:50:44.467312Z"
    }
   },
   "outputs": [],
   "source": [
    "fig = px.scatter(nyra_start, x = \"weight_carried\", y = \"odds\", hover_data = [\"race_number\", \"jockey\"],\n",
    "                 color = \"odds\", color_continuous_scale = colors, range_color = (0, 9999),\n",
    "                 title = \"Odds by Weight Carried\")\n",
    "\n",
    "fig.update_traces(marker = dict(size = 8, symbol = \"circle\")) # scaling the markers\n",
    "fig.update_layout(template = \"plotly_dark\", font = dict(family = \"PT Sans\", size = 20))\n",
    "fig.show()"
   ]
  },
  {
   "cell_type": "code",
   "execution_count": null,
   "metadata": {
    "_kg_hide-input": true,
    "execution": {
     "iopub.execute_input": "2022-08-12T00:47:19.245299Z",
     "iopub.status.busy": "2022-08-12T00:47:19.24482Z",
     "iopub.status.idle": "2022-08-12T00:47:19.930402Z",
     "shell.execute_reply": "2022-08-12T00:47:19.92916Z",
     "shell.execute_reply.started": "2022-08-12T00:47:19.245259Z"
    }
   },
   "outputs": [],
   "source": [
    "fig = px.scatter(nyra_start, x = \"weight_carried\", y = \"day\", hover_data = [\"race_number\", \"jockey\"],\n",
    "                 color = \"odds\", color_continuous_scale = colors, range_color = (0, 9999),\n",
    "                 title = \"Odds by Day of Event and Weight Carried\")\n",
    "\n",
    "fig.update_traces(marker = dict(size = 9, symbol = \"square\")) # scaling the markers\n",
    "fig.update_layout(template = \"plotly_dark\", font = dict(family = \"PT Sans\", size = 20))\n",
    "fig.show()"
   ]
  },
  {
   "cell_type": "code",
   "execution_count": null,
   "metadata": {
    "_kg_hide-input": true,
    "execution": {
     "iopub.execute_input": "2022-08-12T00:46:42.428925Z",
     "iopub.status.busy": "2022-08-12T00:46:42.428484Z",
     "iopub.status.idle": "2022-08-12T00:46:42.666477Z",
     "shell.execute_reply": "2022-08-12T00:46:42.665047Z",
     "shell.execute_reply.started": "2022-08-12T00:46:42.428885Z"
    }
   },
   "outputs": [],
   "source": [
    "fig = px.scatter(nyra_start, x = \"weight_carried\", y = \"month\", hover_data = [\"race_number\", \"jockey\"],\n",
    "                 color = \"odds\", color_continuous_scale = colors, range_color = (0, 9999),\n",
    "                 title = \"Odds by Month of Event and Weight Carried\")\n",
    "\n",
    "fig.update_traces(marker = dict(size = 11, symbol = \"circle\")) # scaling the markers\n",
    "fig.update_layout(template = \"plotly_dark\", font = dict(family = \"PT Sans\", size = 20))\n",
    "fig.show()"
   ]
  },
  {
   "cell_type": "code",
   "execution_count": null,
   "metadata": {
    "execution": {
     "iopub.execute_input": "2022-08-12T00:54:54.77421Z",
     "iopub.status.busy": "2022-08-12T00:54:54.77374Z",
     "iopub.status.idle": "2022-08-12T00:54:54.790868Z",
     "shell.execute_reply": "2022-08-12T00:54:54.78955Z",
     "shell.execute_reply.started": "2022-08-12T00:54:54.774168Z"
    }
   },
   "outputs": [],
   "source": [
    "nyra_race.head()"
   ]
  },
  {
   "cell_type": "code",
   "execution_count": null,
   "metadata": {
    "execution": {
     "iopub.execute_input": "2022-08-12T00:55:31.512376Z",
     "iopub.status.busy": "2022-08-12T00:55:31.511806Z",
     "iopub.status.idle": "2022-08-12T00:55:31.527503Z",
     "shell.execute_reply": "2022-08-12T00:55:31.526214Z",
     "shell.execute_reply.started": "2022-08-12T00:55:31.512296Z"
    }
   },
   "outputs": [],
   "source": [
    "nyra_race.track_condition.value_counts()"
   ]
  },
  {
   "cell_type": "code",
   "execution_count": null,
   "metadata": {
    "_kg_hide-input": true,
    "execution": {
     "iopub.execute_input": "2022-08-12T01:07:01.191295Z",
     "iopub.status.busy": "2022-08-12T01:07:01.190591Z",
     "iopub.status.idle": "2022-08-12T01:07:01.319867Z",
     "shell.execute_reply": "2022-08-12T01:07:01.318513Z",
     "shell.execute_reply.started": "2022-08-12T01:07:01.19124Z"
    }
   },
   "outputs": [],
   "source": [
    "fig = px.scatter(nyra_race, x = \"post_time\", y = \"run_up_distance\", hover_data = [\"race_number\", \"course_type\"],\n",
    "                 color = \"race_number\", color_discrete_sequence = colors, #range_color = (0, 9999),\n",
    "                 title = \"Post Time by Run Up Distance\")\n",
    "\n",
    "fig.update_traces(marker = dict(size = 4, symbol = \"circle\")) # scaling the markers\n",
    "fig.update_layout(template = \"plotly_dark\", font = dict(family = \"PT Sans\", size = 20))\n",
    "fig.show()"
   ]
  },
  {
   "cell_type": "markdown",
   "metadata": {},
   "source": [
    "**Thank you for viewing this notebook. Please feel free to provide any feedback**"
   ]
  }
 ],
 "metadata": {
  "kernelspec": {
   "display_name": "Python 3 (ipykernel)",
   "language": "python",
   "name": "python3"
  },
  "language_info": {
   "codemirror_mode": {
    "name": "ipython",
    "version": 3
   },
   "file_extension": ".py",
   "mimetype": "text/x-python",
   "name": "python",
   "nbconvert_exporter": "python",
   "pygments_lexer": "ipython3",
   "version": "3.8.8"
  }
 },
 "nbformat": 4,
 "nbformat_minor": 4
}
